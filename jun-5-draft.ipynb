{
 "cells": [
  {
   "cell_type": "markdown",
   "metadata": {},
   "source": [
    "# **What will the next highest grossing mobile game in the US look like?**\n",
    "\n",
    "\n",
    "Author:     Sage (Shijie) Ren\n",
    "\n",
    "Instructor: Adam Anderson\n",
    "\n",
    "Course:     Digital Humanities 100 - Theory and method of digital humanities\n",
    "\n",
    "Date:       June 2021\n",
    "\n",
    "Introduction: \n",
    "\n",
    "With the pandemic in the past year, more and more people have enjoyed their new past time -- video gaming, and with the accessibilities of mobile phones and rising equality of genders in gaming, mobile games have become prevalently popular. \n",
    "\n",
    "Many developers and business-minded perople alike have been asking oneself the same question, what will the highest grossing mobile game look like in the future?\n",
    "\n",
    "This notebook would be divided into 6 sections:\n",
    "1. Primary libraries and dataset import\n",
    "2. Data cleaning and selection\n",
    "3. Data visualization\n",
    "4. Inference and Prediction\n",
    "5. What are some confounding factors and where to go from here.\n"
   ]
  },
  {
   "cell_type": "markdown",
   "metadata": {},
   "source": [
    "# 1. Frameworks, Libraries and Datasets"
   ]
  },
  {
   "cell_type": "code",
   "execution_count": 2,
   "metadata": {},
   "outputs": [],
   "source": [
    "from datascience import *\n",
    "import pandas as pd\n",
    "import numpy as np\n",
    "%matplotlib inline\n",
    "import matplotlib.pyplot as plt"
   ]
  },
  {
   "cell_type": "markdown",
   "metadata": {},
   "source": [
    "The following datasets and csvs are published by GameRefinery, April 2021, in GameRefinery Q1 2021 Snapshot Report, Page 6-9. You can find out more at https://www.gamerefinery.com/q1-2021-market-snapshot-report/"
   ]
  },
  {
   "cell_type": "markdown",
   "metadata": {},
   "source": [
    "This table, called companies_by_market_share, shows the top 10 publiser in the apple app store by share percentage for the 1st quarter of 2021."
   ]
  },
  {
   "cell_type": "code",
   "execution_count": 3,
   "metadata": {},
   "outputs": [
    {
     "data": {
      "text/html": [
       "<table border=\"1\" class=\"dataframe\">\n",
       "    <thead>\n",
       "        <tr>\n",
       "            <th>Publisher</th> <th>Revenue Share(%)</th>\n",
       "        </tr>\n",
       "    </thead>\n",
       "    <tbody>\n",
       "        <tr>\n",
       "            <td>Roblox      </td> <td>5.52            </td>\n",
       "        </tr>\n",
       "        <tr>\n",
       "            <td>Playrix     </td> <td>4.74            </td>\n",
       "        </tr>\n",
       "        <tr>\n",
       "            <td>King        </td> <td>4.55            </td>\n",
       "        </tr>\n",
       "        <tr>\n",
       "            <td>Supercell   </td> <td>2.89            </td>\n",
       "        </tr>\n",
       "        <tr>\n",
       "            <td>Niantic     </td> <td>2.31            </td>\n",
       "        </tr>\n",
       "        <tr>\n",
       "            <td>Magic Tavern</td> <td>2.21            </td>\n",
       "        </tr>\n",
       "        <tr>\n",
       "            <td>Scopely     </td> <td>2.17            </td>\n",
       "        </tr>\n",
       "        <tr>\n",
       "            <td>Zynga       </td> <td>2.09            </td>\n",
       "        </tr>\n",
       "        <tr>\n",
       "            <td>Playtika    </td> <td>2.06            </td>\n",
       "        </tr>\n",
       "        <tr>\n",
       "            <td>Peak Games  </td> <td>1.98            </td>\n",
       "        </tr>\n",
       "    </tbody>\n",
       "</table>"
      ],
      "text/plain": [
       "Publisher    | Revenue Share(%)\n",
       "Roblox       | 5.52\n",
       "Playrix      | 4.74\n",
       "King         | 4.55\n",
       "Supercell    | 2.89\n",
       "Niantic      | 2.31\n",
       "Magic Tavern | 2.21\n",
       "Scopely      | 2.17\n",
       "Zynga        | 2.09\n",
       "Playtika     | 2.06\n",
       "Peak Games   | 1.98"
      ]
     },
     "execution_count": 3,
     "metadata": {},
     "output_type": "execute_result"
    }
   ],
   "source": [
    "companies_by_market_share = Table.read_table(\"Market-Share.csv\")\n",
    "companies_by_market_share = companies_by_market_share.select(1,2).take(range(4,14))\n",
    "companies_by_market_share.relabel(0,\"Publisher\").relabel(1,\"Revenue Share(%)\")"
   ]
  },
  {
   "cell_type": "markdown",
   "metadata": {},
   "source": [
    "It is not hard to also find out that for each publisher, what gaming engine they use, and thus we will build upon the previous table:"
   ]
  },
  {
   "cell_type": "code",
   "execution_count": 4,
   "metadata": {},
   "outputs": [
    {
     "data": {
      "text/html": [
       "<table border=\"1\" class=\"dataframe\">\n",
       "    <thead>\n",
       "        <tr>\n",
       "            <th>Publisher</th> <th>Revenue Share(%)</th> <th>Game Engine</th>\n",
       "        </tr>\n",
       "    </thead>\n",
       "    <tbody>\n",
       "        <tr>\n",
       "            <td>Roblox      </td> <td>5.52            </td> <td>Internal   </td>\n",
       "        </tr>\n",
       "        <tr>\n",
       "            <td>Playrix     </td> <td>4.74            </td> <td>Internal   </td>\n",
       "        </tr>\n",
       "        <tr>\n",
       "            <td>King        </td> <td>4.55            </td> <td>Internal   </td>\n",
       "        </tr>\n",
       "        <tr>\n",
       "            <td>Supercell   </td> <td>2.89            </td> <td>Internal   </td>\n",
       "        </tr>\n",
       "        <tr>\n",
       "            <td>Niantic     </td> <td>2.31            </td> <td>Internal   </td>\n",
       "        </tr>\n",
       "        <tr>\n",
       "            <td>Magic Tavern</td> <td>2.21            </td> <td>Internal   </td>\n",
       "        </tr>\n",
       "        <tr>\n",
       "            <td>Scopely     </td> <td>2.17            </td> <td>Internal   </td>\n",
       "        </tr>\n",
       "        <tr>\n",
       "            <td>Zynga       </td> <td>2.09            </td> <td>Coco2ds    </td>\n",
       "        </tr>\n",
       "        <tr>\n",
       "            <td>Playtika    </td> <td>2.06            </td> <td>Monosyne   </td>\n",
       "        </tr>\n",
       "        <tr>\n",
       "            <td>Peak Games  </td> <td>1.98            </td> <td>Internal   </td>\n",
       "        </tr>\n",
       "    </tbody>\n",
       "</table>"
      ],
      "text/plain": [
       "<IPython.core.display.HTML object>"
      ]
     },
     "metadata": {},
     "output_type": "display_data"
    }
   ],
   "source": [
    "companies_with_engines = companies_by_market_share.with_column(\"Game Engine\",make_array(\"Internal\",\"Internal\",\"Internal\",\"Internal\",\"Internal\",\"Internal\",\"Internal\",\"Coco2ds\",\"Monosyne\",\"Internal\"))\n",
    "companies_with_engines.show()"
   ]
  },
  {
   "cell_type": "markdown",
   "metadata": {},
   "source": [
    "The next table we collected from a CSV file published by GameRefinery shows us the current distribution of mobile gaming revenue in the united states as of 1st quarter 2021, by genre. "
   ]
  },
  {
   "cell_type": "code",
   "execution_count": 52,
   "metadata": {},
   "outputs": [
    {
     "data": {
      "text/html": [
       "<table border=\"1\" class=\"dataframe\">\n",
       "    <thead>\n",
       "        <tr>\n",
       "            <th>Genre</th> <th>Revenue Share(%)</th>\n",
       "        </tr>\n",
       "    </thead>\n",
       "    <tbody>\n",
       "        <tr>\n",
       "            <td>Puzzle           </td> <td>22.87           </td>\n",
       "        </tr>\n",
       "        <tr>\n",
       "            <td>Casino           </td> <td>19.23           </td>\n",
       "        </tr>\n",
       "        <tr>\n",
       "            <td>Strategy         </td> <td>15.54           </td>\n",
       "        </tr>\n",
       "        <tr>\n",
       "            <td>RPG              </td> <td>13.8            </td>\n",
       "        </tr>\n",
       "        <tr>\n",
       "            <td>Simulation       </td> <td>10.93           </td>\n",
       "        </tr>\n",
       "        <tr>\n",
       "            <td>Shooter          </td> <td>5.32            </td>\n",
       "        </tr>\n",
       "        <tr>\n",
       "            <td>Lifestyle        </td> <td>3.9             </td>\n",
       "        </tr>\n",
       "        <tr>\n",
       "            <td>Sports           </td> <td>3.04            </td>\n",
       "        </tr>\n",
       "        <tr>\n",
       "            <td>AR/Location based</td> <td>2.42            </td>\n",
       "        </tr>\n",
       "        <tr>\n",
       "            <td>Driving          </td> <td>1.29            </td>\n",
       "        </tr>\n",
       "    </tbody>\n",
       "</table>"
      ],
      "text/plain": [
       "Genre             | Revenue Share(%)\n",
       "Puzzle            | 22.87\n",
       "Casino            | 19.23\n",
       "Strategy          | 15.54\n",
       "RPG               | 13.8\n",
       "Simulation        | 10.93\n",
       "Shooter           | 5.32\n",
       "Lifestyle         | 3.9\n",
       "Sports            | 3.04\n",
       "AR/Location based | 2.42\n",
       "Driving           | 1.29"
      ]
     },
     "execution_count": 52,
     "metadata": {},
     "output_type": "execute_result"
    }
   ],
   "source": [
    "revenue_by_genre = Table.read_table(\"Genre-Revenue.csv\")\n",
    "revenue_by_genre = revenue_by_genre.select(1,2).take(range(4,14))\n",
    "revenue_by_genre.relabel(0,\"Genre\").relabel(1,\"Revenue Share(%)\")"
   ]
  },
  {
   "cell_type": "markdown",
   "metadata": {},
   "source": [
    "The table below shows the Growth Rate of mobile gaming revenue in the United Satates as of 1st quarter by genre."
   ]
  },
  {
   "cell_type": "code",
   "execution_count": 53,
   "metadata": {},
   "outputs": [
    {
     "data": {
      "text/html": [
       "<table border=\"1\" class=\"dataframe\">\n",
       "    <thead>\n",
       "        <tr>\n",
       "            <th>Genre</th> <th>Growth(%)</th>\n",
       "        </tr>\n",
       "    </thead>\n",
       "    <tbody>\n",
       "        <tr>\n",
       "            <td>Simulation</td> <td>63.2     </td>\n",
       "        </tr>\n",
       "        <tr>\n",
       "            <td>Racing    </td> <td>51.9     </td>\n",
       "        </tr>\n",
       "        <tr>\n",
       "            <td>Casino    </td> <td>46.4     </td>\n",
       "        </tr>\n",
       "        <tr>\n",
       "            <td>Lifestyle </td> <td>36.7     </td>\n",
       "        </tr>\n",
       "        <tr>\n",
       "            <td>Shooter   </td> <td>36.2     </td>\n",
       "        </tr>\n",
       "        <tr>\n",
       "            <td>Arcade    </td> <td>32.8     </td>\n",
       "        </tr>\n",
       "        <tr>\n",
       "            <td>RPG       </td> <td>27.6     </td>\n",
       "        </tr>\n",
       "        <tr>\n",
       "            <td>Puzzle    </td> <td>23.7     </td>\n",
       "        </tr>\n",
       "        <tr>\n",
       "            <td>Sports    </td> <td>18.1     </td>\n",
       "        </tr>\n",
       "        <tr>\n",
       "            <td>Strategy  </td> <td>16.7     </td>\n",
       "        </tr>\n",
       "    </tbody>\n",
       "</table>"
      ],
      "text/plain": [
       "Genre      | Growth(%)\n",
       "Simulation | 63.2\n",
       "Racing     | 51.9\n",
       "Casino     | 46.4\n",
       "Lifestyle  | 36.7\n",
       "Shooter    | 36.2\n",
       "Arcade     | 32.8\n",
       "RPG        | 27.6\n",
       "Puzzle     | 23.7\n",
       "Sports     | 18.1\n",
       "Strategy   | 16.7"
      ]
     },
     "execution_count": 53,
     "metadata": {},
     "output_type": "execute_result"
    }
   ],
   "source": [
    "growth_by_genre = Table.read_table(\"Genre-Revenue-Growth.csv\")\n",
    "growth_by_genre = growth_by_genre.select(1,2).take(range(4,14))\n",
    "growth_by_genre.relabel(0,\"Genre\").relabel(1,\"Growth(%)\")"
   ]
  },
  {
   "cell_type": "markdown",
   "metadata": {},
   "source": [
    "The table below shows the daily revenue of the top 10 grossing mobile game in dollars."
   ]
  },
  {
   "cell_type": "code",
   "execution_count": 7,
   "metadata": {},
   "outputs": [
    {
     "data": {
      "text/html": [
       "<table border=\"1\" class=\"dataframe\">\n",
       "    <thead>\n",
       "        <tr>\n",
       "            <th>Genre</th> <th>Dollars($)</th>\n",
       "        </tr>\n",
       "    </thead>\n",
       "    <tbody>\n",
       "        <tr>\n",
       "            <td>Roblox                       </td> <td>3,093,504 </td>\n",
       "        </tr>\n",
       "        <tr>\n",
       "            <td>Candy Crush Saga             </td> <td>2,026,652 </td>\n",
       "        </tr>\n",
       "        <tr>\n",
       "            <td>Coin Master                  </td> <td>1,095,882 </td>\n",
       "        </tr>\n",
       "        <tr>\n",
       "            <td>State of Survival: Zombie War</td> <td>940,076   </td>\n",
       "        </tr>\n",
       "        <tr>\n",
       "            <td>Homescapes                   </td> <td>776,355   </td>\n",
       "        </tr>\n",
       "        <tr>\n",
       "            <td>PUBG MOBILE 3RD ANNIVERSARY  </td> <td>477,918   </td>\n",
       "        </tr>\n",
       "        <tr>\n",
       "            <td>Pokémon GO                   </td> <td>463,580   </td>\n",
       "        </tr>\n",
       "        <tr>\n",
       "            <td>Clash of Clans               </td> <td>456,715   </td>\n",
       "        </tr>\n",
       "        <tr>\n",
       "            <td>Project Makeover             </td> <td>399,406   </td>\n",
       "        </tr>\n",
       "        <tr>\n",
       "            <td>Gardenscapes                 </td> <td>257,467   </td>\n",
       "        </tr>\n",
       "    </tbody>\n",
       "</table>"
      ],
      "text/plain": [
       "Genre                         | Dollars($)\n",
       "Roblox                        | 3,093,504\n",
       "Candy Crush Saga              | 2,026,652\n",
       "Coin Master                   | 1,095,882\n",
       "State of Survival: Zombie War | 940,076\n",
       "Homescapes                    | 776,355\n",
       "PUBG MOBILE 3RD ANNIVERSARY   | 477,918\n",
       "Pokémon GO                    | 463,580\n",
       "Clash of Clans                | 456,715\n",
       "Project Makeover              | 399,406\n",
       "Gardenscapes                  | 257,467"
      ]
     },
     "execution_count": 7,
     "metadata": {},
     "output_type": "execute_result"
    }
   ],
   "source": [
    "daily_revenue_game = Table.read_table(\"Daily-Revenue-Game.csv\")\n",
    "daily_revenue_game = daily_revenue_game.select(1,2).take(range(4,14))\n",
    "daily_revenue_game.relabel(0,\"Genre\").relabel(1,\"Dollars($)\")"
   ]
  },
  {
   "cell_type": "markdown",
   "metadata": {},
   "source": [
    "This table shows The preference of activities by new and exisiting gamers.\n"
   ]
  },
  {
   "cell_type": "code",
   "execution_count": 41,
   "metadata": {},
   "outputs": [
    {
     "data": {
      "text/html": [
       "<table border=\"1\" class=\"dataframe\">\n",
       "    <thead>\n",
       "        <tr>\n",
       "            <th>Genre</th> <th>New Gamers(%)</th> <th>Existing Gamers(%)</th>\n",
       "        </tr>\n",
       "    </thead>\n",
       "    <tbody>\n",
       "        <tr>\n",
       "            <td>Playing single player/by myself                             </td> <td>87           </td> <td>87                </td>\n",
       "        </tr>\n",
       "        <tr>\n",
       "            <td>Playing with friends/family online                          </td> <td>50           </td> <td>36                </td>\n",
       "        </tr>\n",
       "        <tr>\n",
       "            <td>Playing with strangers online                               </td> <td>49           </td> <td>36                </td>\n",
       "        </tr>\n",
       "        <tr>\n",
       "            <td>Connecting my social media account to the game              </td> <td>49           </td> <td>33                </td>\n",
       "        </tr>\n",
       "        <tr>\n",
       "            <td>Playing with friends/family in the same room                </td> <td>44           </td> <td>32                </td>\n",
       "        </tr>\n",
       "        <tr>\n",
       "            <td>Participating in a limited-time event in a game             </td> <td>41           </td> <td>31                </td>\n",
       "        </tr>\n",
       "        <tr>\n",
       "            <td>Sending requests for help/items to others from the game     </td> <td>40           </td> <td>26                </td>\n",
       "        </tr>\n",
       "        <tr>\n",
       "            <td>Using a standalone app to talk with friends/family onlin ...</td> <td>36           </td> <td>23                </td>\n",
       "        </tr>\n",
       "        <tr>\n",
       "            <td>Participating in in-game tournaments                        </td> <td>38           </td> <td>23                </td>\n",
       "        </tr>\n",
       "        <tr>\n",
       "            <td>Getting advice from others on how to play better            </td> <td>34           </td> <td>22                </td>\n",
       "        </tr>\n",
       "        <tr>\n",
       "            <td>Giving advice to others on how to play better               </td> <td>34           </td> <td>18                </td>\n",
       "        </tr>\n",
       "        <tr>\n",
       "            <td>Joining a club, team, guild, or clan in a game              </td> <td>28           </td> <td>17                </td>\n",
       "        </tr>\n",
       "    </tbody>\n",
       "</table>"
      ],
      "text/plain": [
       "<IPython.core.display.HTML object>"
      ]
     },
     "metadata": {},
     "output_type": "display_data"
    }
   ],
   "source": [
    "weekly_activity = Table.read_table(\"Weekly-Activity.csv\")\n",
    "weekly_activity = weekly_activity.select(1,2,3).take(range(4,16))\n",
    "weekly_activity.relabel(0,\"Genre\").relabel(1,\"New Gamers(%)\").relabel(2,\"Existing Gamers(%)\")\n",
    "weekly_activity.show()"
   ]
  },
  {
   "cell_type": "markdown",
   "metadata": {},
   "source": [
    "This table shows the preference of monetization by new gamers. "
   ]
  },
  {
   "cell_type": "code",
   "execution_count": 9,
   "metadata": {},
   "outputs": [
    {
     "data": {
      "text/html": [
       "<table border=\"1\" class=\"dataframe\">\n",
       "    <thead>\n",
       "        <tr>\n",
       "            <th>Monetization</th> <th>United States(%)</th>\n",
       "        </tr>\n",
       "    </thead>\n",
       "    <tbody>\n",
       "        <tr>\n",
       "            <td>Ad-support models           </td> <td>35              </td>\n",
       "        </tr>\n",
       "        <tr>\n",
       "            <td>Free-to-play IAP            </td> <td>25              </td>\n",
       "        </tr>\n",
       "        <tr>\n",
       "            <td>Game purchase, no ads       </td> <td>19              </td>\n",
       "        </tr>\n",
       "        <tr>\n",
       "            <td>Battle pass                 </td> <td>13              </td>\n",
       "        </tr>\n",
       "        <tr>\n",
       "            <td>Monthly fee for game bundles</td> <td>8               </td>\n",
       "        </tr>\n",
       "    </tbody>\n",
       "</table>"
      ],
      "text/plain": [
       "<IPython.core.display.HTML object>"
      ]
     },
     "metadata": {},
     "output_type": "display_data"
    }
   ],
   "source": [
    "monetization_new_player = Table.read_table(\"monetization-new-player.csv\")\n",
    "monetization_new_player = monetization_new_player.select(1,2).take(range(4,9))\n",
    "monetization_new_player.relabel(0,\"Monetization\").relabel(1,\"United States(%)\")\n",
    "monetization_new_player.show()"
   ]
  },
  {
   "cell_type": "markdown",
   "metadata": {},
   "source": [
    "This table shows the preference of monetization by existing gamers. "
   ]
  },
  {
   "cell_type": "code",
   "execution_count": 10,
   "metadata": {},
   "outputs": [
    {
     "data": {
      "text/html": [
       "<table border=\"1\" class=\"dataframe\">\n",
       "    <thead>\n",
       "        <tr>\n",
       "            <th>Monetization</th> <th>United States(%)</th>\n",
       "        </tr>\n",
       "    </thead>\n",
       "    <tbody>\n",
       "        <tr>\n",
       "            <td>Ad-support models           </td> <td>43              </td>\n",
       "        </tr>\n",
       "        <tr>\n",
       "            <td>Free-to-play IAP            </td> <td>24              </td>\n",
       "        </tr>\n",
       "        <tr>\n",
       "            <td>Game purchase, no ads       </td> <td>16              </td>\n",
       "        </tr>\n",
       "        <tr>\n",
       "            <td>Battle pass                 </td> <td>12              </td>\n",
       "        </tr>\n",
       "        <tr>\n",
       "            <td>Monthly fee for game bundles</td> <td>6               </td>\n",
       "        </tr>\n",
       "    </tbody>\n",
       "</table>"
      ],
      "text/plain": [
       "<IPython.core.display.HTML object>"
      ]
     },
     "metadata": {},
     "output_type": "display_data"
    }
   ],
   "source": [
    "monetization_existing_player = Table.read_table(\"monetization-existing-player.csv\")\n",
    "monetization_existing_player = monetization_existing_player.select(1,2).take(range(4,9))\n",
    "monetization_existing_player.relabel(0,\"Monetization\").relabel(1,\"United States(%)\")\n",
    "monetization_existing_player.show()"
   ]
  },
  {
   "cell_type": "markdown",
   "metadata": {},
   "source": [
    "# 2. Data Cleaning and Selection"
   ]
  },
  {
   "cell_type": "markdown",
   "metadata": {},
   "source": [
    "Firstly, we have already combined the company share table and game engine table"
   ]
  },
  {
   "cell_type": "code",
   "execution_count": 11,
   "metadata": {},
   "outputs": [
    {
     "data": {
      "text/html": [
       "<table border=\"1\" class=\"dataframe\">\n",
       "    <thead>\n",
       "        <tr>\n",
       "            <th>Publisher</th> <th>Revenue Share(%)</th> <th>Game Engine</th>\n",
       "        </tr>\n",
       "    </thead>\n",
       "    <tbody>\n",
       "        <tr>\n",
       "            <td>Roblox      </td> <td>5.52            </td> <td>Internal   </td>\n",
       "        </tr>\n",
       "        <tr>\n",
       "            <td>Playrix     </td> <td>4.74            </td> <td>Internal   </td>\n",
       "        </tr>\n",
       "        <tr>\n",
       "            <td>King        </td> <td>4.55            </td> <td>Internal   </td>\n",
       "        </tr>\n",
       "        <tr>\n",
       "            <td>Supercell   </td> <td>2.89            </td> <td>Internal   </td>\n",
       "        </tr>\n",
       "        <tr>\n",
       "            <td>Niantic     </td> <td>2.31            </td> <td>Internal   </td>\n",
       "        </tr>\n",
       "        <tr>\n",
       "            <td>Magic Tavern</td> <td>2.21            </td> <td>Internal   </td>\n",
       "        </tr>\n",
       "        <tr>\n",
       "            <td>Scopely     </td> <td>2.17            </td> <td>Internal   </td>\n",
       "        </tr>\n",
       "        <tr>\n",
       "            <td>Zynga       </td> <td>2.09            </td> <td>Coco2ds    </td>\n",
       "        </tr>\n",
       "        <tr>\n",
       "            <td>Playtika    </td> <td>2.06            </td> <td>Monosyne   </td>\n",
       "        </tr>\n",
       "        <tr>\n",
       "            <td>Peak Games  </td> <td>1.98            </td> <td>Internal   </td>\n",
       "        </tr>\n",
       "    </tbody>\n",
       "</table>"
      ],
      "text/plain": [
       "<IPython.core.display.HTML object>"
      ]
     },
     "metadata": {},
     "output_type": "display_data"
    }
   ],
   "source": [
    "companies_with_engines.show()"
   ]
  },
  {
   "cell_type": "markdown",
   "metadata": {},
   "source": [
    "Next, we will combine revenue and growth by genre."
   ]
  },
  {
   "cell_type": "code",
   "execution_count": 54,
   "metadata": {},
   "outputs": [
    {
     "data": {
      "text/html": [
       "<table border=\"1\" class=\"dataframe\">\n",
       "    <thead>\n",
       "        <tr>\n",
       "            <th>Genre</th> <th>Revenue Share(%)</th> <th>Growth(%)</th>\n",
       "        </tr>\n",
       "    </thead>\n",
       "    <tbody>\n",
       "        <tr>\n",
       "            <td>Casino    </td> <td>19.23           </td> <td>46.4     </td>\n",
       "        </tr>\n",
       "        <tr>\n",
       "            <td>Lifestyle </td> <td>3.9             </td> <td>36.7     </td>\n",
       "        </tr>\n",
       "        <tr>\n",
       "            <td>Puzzle    </td> <td>22.87           </td> <td>23.7     </td>\n",
       "        </tr>\n",
       "        <tr>\n",
       "            <td>RPG       </td> <td>13.8            </td> <td>27.6     </td>\n",
       "        </tr>\n",
       "        <tr>\n",
       "            <td>Shooter   </td> <td>5.32            </td> <td>36.2     </td>\n",
       "        </tr>\n",
       "        <tr>\n",
       "            <td>Simulation</td> <td>10.93           </td> <td>63.2     </td>\n",
       "        </tr>\n",
       "        <tr>\n",
       "            <td>Sports    </td> <td>3.04            </td> <td>18.1     </td>\n",
       "        </tr>\n",
       "        <tr>\n",
       "            <td>Strategy  </td> <td>15.54           </td> <td>16.7     </td>\n",
       "        </tr>\n",
       "    </tbody>\n",
       "</table>"
      ],
      "text/plain": [
       "<IPython.core.display.HTML object>"
      ]
     },
     "metadata": {},
     "output_type": "display_data"
    }
   ],
   "source": [
    "genre = revenue_by_genre.join(\"Genre\",growth_by_genre)\n",
    "genre.show()"
   ]
  },
  {
   "cell_type": "markdown",
   "metadata": {},
   "source": [
    "The daily revenue of top 10 games does not really help this study, and therefore we do not select it. The weekly activity table is shown here:"
   ]
  },
  {
   "cell_type": "code",
   "execution_count": 42,
   "metadata": {},
   "outputs": [
    {
     "data": {
      "text/html": [
       "<table border=\"1\" class=\"dataframe\">\n",
       "    <thead>\n",
       "        <tr>\n",
       "            <th>Genre</th> <th>New Gamers(%)</th> <th>Existing Gamers(%)</th>\n",
       "        </tr>\n",
       "    </thead>\n",
       "    <tbody>\n",
       "        <tr>\n",
       "            <td>Playing single player/by myself                             </td> <td>87           </td> <td>87                </td>\n",
       "        </tr>\n",
       "        <tr>\n",
       "            <td>Playing with friends/family online                          </td> <td>50           </td> <td>36                </td>\n",
       "        </tr>\n",
       "        <tr>\n",
       "            <td>Playing with strangers online                               </td> <td>49           </td> <td>36                </td>\n",
       "        </tr>\n",
       "        <tr>\n",
       "            <td>Connecting my social media account to the game              </td> <td>49           </td> <td>33                </td>\n",
       "        </tr>\n",
       "        <tr>\n",
       "            <td>Playing with friends/family in the same room                </td> <td>44           </td> <td>32                </td>\n",
       "        </tr>\n",
       "        <tr>\n",
       "            <td>Participating in a limited-time event in a game             </td> <td>41           </td> <td>31                </td>\n",
       "        </tr>\n",
       "        <tr>\n",
       "            <td>Sending requests for help/items to others from the game     </td> <td>40           </td> <td>26                </td>\n",
       "        </tr>\n",
       "        <tr>\n",
       "            <td>Using a standalone app to talk with friends/family onlin ...</td> <td>36           </td> <td>23                </td>\n",
       "        </tr>\n",
       "        <tr>\n",
       "            <td>Participating in in-game tournaments                        </td> <td>38           </td> <td>23                </td>\n",
       "        </tr>\n",
       "        <tr>\n",
       "            <td>Getting advice from others on how to play better            </td> <td>34           </td> <td>22                </td>\n",
       "        </tr>\n",
       "        <tr>\n",
       "            <td>Giving advice to others on how to play better               </td> <td>34           </td> <td>18                </td>\n",
       "        </tr>\n",
       "        <tr>\n",
       "            <td>Joining a club, team, guild, or clan in a game              </td> <td>28           </td> <td>17                </td>\n",
       "        </tr>\n",
       "    </tbody>\n",
       "</table>"
      ],
      "text/plain": [
       "<IPython.core.display.HTML object>"
      ]
     },
     "metadata": {},
     "output_type": "display_data"
    }
   ],
   "source": [
    "weekly_activity.show()"
   ]
  },
  {
   "cell_type": "markdown",
   "metadata": {},
   "source": [
    "Lastly, we will combine the monetization preference of new players table with monetization preference of existing players table."
   ]
  },
  {
   "cell_type": "code",
   "execution_count": 16,
   "metadata": {},
   "outputs": [
    {
     "data": {
      "text/html": [
       "<table border=\"1\" class=\"dataframe\">\n",
       "    <thead>\n",
       "        <tr>\n",
       "            <th>Monetization</th> <th>United States(%)</th> <th>United States(%)_2</th>\n",
       "        </tr>\n",
       "    </thead>\n",
       "    <tbody>\n",
       "        <tr>\n",
       "            <td>Ad-support models           </td> <td>35              </td> <td>43                </td>\n",
       "        </tr>\n",
       "        <tr>\n",
       "            <td>Battle pass                 </td> <td>13              </td> <td>12                </td>\n",
       "        </tr>\n",
       "        <tr>\n",
       "            <td>Free-to-play IAP            </td> <td>25              </td> <td>24                </td>\n",
       "        </tr>\n",
       "        <tr>\n",
       "            <td>Game purchase, no ads       </td> <td>19              </td> <td>16                </td>\n",
       "        </tr>\n",
       "        <tr>\n",
       "            <td>Monthly fee for game bundles</td> <td>8               </td> <td>6                 </td>\n",
       "        </tr>\n",
       "    </tbody>\n",
       "</table>"
      ],
      "text/plain": [
       "<IPython.core.display.HTML object>"
      ]
     },
     "metadata": {},
     "output_type": "display_data"
    }
   ],
   "source": [
    "monetization = monetization_new_player.join(\"Monetization\",monetization_existing_player)\n",
    "monetization.show()"
   ]
  },
  {
   "cell_type": "markdown",
   "metadata": {},
   "source": [
    "# 3. Data Visualization and Prediction"
   ]
  },
  {
   "cell_type": "markdown",
   "metadata": {},
   "source": [
    "In the companies_with_engine table, we will first visualization the market revenue share."
   ]
  },
  {
   "cell_type": "code",
   "execution_count": 21,
   "metadata": {},
   "outputs": [
    {
     "data": {
      "image/png": "[encoded data removed]",
      "text/plain": [
       "<Figure size 432x288 with 1 Axes>"
      ]
     },
     "metadata": {},
     "output_type": "display_data"
    }
   ],
   "source": [
    "plt.pie(companies_with_engines.column(\"Revenue Share(%)\"),labels=companies_with_engines.column(\"Publisher\"))\n",
    "plt.show()"
   ]
  },
  {
   "cell_type": "code",
   "execution_count": 23,
   "metadata": {},
   "outputs": [
    {
     "data": {
      "image/png": "[encoded data removed]",
      "text/plain": [
       "<Figure size 432x288 with 1 Axes>"
      ]
     },
     "metadata": {
      "needs_background": "light"
     },
     "output_type": "display_data"
    }
   ],
   "source": [
    "companies_with_engines.group(\"Game Engine\").barh(\"Game Engine\")"
   ]
  },
  {
   "cell_type": "markdown",
   "metadata": {},
   "source": [
    "**As we can see that most of the popular publisher uses their internal engine, it is obvious that in order to create the next highest grossing mobile game, one would need to use their internal engine.**"
   ]
  },
  {
   "cell_type": "markdown",
   "metadata": {},
   "source": [
    "In order to combine the numerical analysis of revenue share and revenue growth, we designed a revenue index where it is Revenue Share * (1 + Growth/100), where it will sufficiently show the current market share and its forecasted growth in the future."
   ]
  },
  {
   "cell_type": "code",
   "execution_count": 58,
   "metadata": {},
   "outputs": [
    {
     "data": {
      "text/html": [
       "<table border=\"1\" class=\"dataframe\">\n",
       "    <thead>\n",
       "        <tr>\n",
       "            <th>Genre</th> <th>Revenue Share(%)</th> <th>Growth(%)</th> <th>Index</th>\n",
       "        </tr>\n",
       "    </thead>\n",
       "    <tbody>\n",
       "        <tr>\n",
       "            <td>Casino    </td> <td>19.23           </td> <td>46.4     </td> <td>28.1527</td>\n",
       "        </tr>\n",
       "        <tr>\n",
       "            <td>Lifestyle </td> <td>3.9             </td> <td>36.7     </td> <td>5.3313 </td>\n",
       "        </tr>\n",
       "        <tr>\n",
       "            <td>Puzzle    </td> <td>22.87           </td> <td>23.7     </td> <td>28.2902</td>\n",
       "        </tr>\n",
       "        <tr>\n",
       "            <td>RPG       </td> <td>13.8            </td> <td>27.6     </td> <td>17.6088</td>\n",
       "        </tr>\n",
       "        <tr>\n",
       "            <td>Shooter   </td> <td>5.32            </td> <td>36.2     </td> <td>7.24584</td>\n",
       "        </tr>\n",
       "        <tr>\n",
       "            <td>Simulation</td> <td>10.93           </td> <td>63.2     </td> <td>17.8378</td>\n",
       "        </tr>\n",
       "        <tr>\n",
       "            <td>Sports    </td> <td>3.04            </td> <td>18.1     </td> <td>3.59024</td>\n",
       "        </tr>\n",
       "        <tr>\n",
       "            <td>Strategy  </td> <td>15.54           </td> <td>16.7     </td> <td>18.1352</td>\n",
       "        </tr>\n",
       "    </tbody>\n",
       "</table>"
      ],
      "text/plain": [
       "<IPython.core.display.HTML object>"
      ]
     },
     "metadata": {},
     "output_type": "display_data"
    }
   ],
   "source": [
    "genre_index = genre.column(\"Revenue Share(%)\")*(1 + genre.column(\"Growth(%)\")/100)\n",
    "new_genre = genre.with_column(\"Index\",genre_index)\n",
    "new_genre.show()"
   ]
  },
  {
   "cell_type": "code",
   "execution_count": 60,
   "metadata": {},
   "outputs": [
    {
     "data": {
      "image/png": "[encoded data removed]",
      "text/plain": [
       "<Figure size 432x288 with 1 Axes>"
      ]
     },
     "metadata": {
      "needs_background": "light"
     },
     "output_type": "display_data"
    }
   ],
   "source": [
    "new_genre.sort(\"Index\",descending=True).take(np.arange(5)).barh(\"Genre\",\"Index\")"
   ]
  },
  {
   "cell_type": "markdown",
   "metadata": {},
   "source": [
    "**We can see in clear details that Puzzle Game and Casino Game are tied, so the next highest grossing moble game in the US would be a combination of Puzzle/Casino**"
   ]
  },
  {
   "cell_type": "code",
   "execution_count": 44,
   "metadata": {},
   "outputs": [
    {
     "data": {
      "image/png": "[encoded data removed]",
      "text/plain": [
       "<Figure size 432x288 with 1 Axes>"
      ]
     },
     "metadata": {
      "needs_background": "light"
     },
     "output_type": "display_data"
    }
   ],
   "source": [
    "weekly_activity = weekly_activity.select(\"Genre\").with_column(\"New Gamers(%)\",map(int,(weekly_activity.column(\"New Gamers(%)\")))).with_column(\"Existing Gamers(%)\",map(int,(weekly_activity.column(\"Existing Gamers(%)\"))))\n",
    "weekly_activity.take(np.arange(5)).group(\"Genre\",sum).barh(\"Genre\")"
   ]
  },
  {
   "cell_type": "markdown",
   "metadata": {},
   "source": [
    "**Surprising, contrary to popular beliefs that player versus player is the dominant grossing genre, the top reason for players to play game is actually playing single players or by oneself.**"
   ]
  },
  {
   "cell_type": "markdown",
   "metadata": {},
   "source": [
    "Here, we will also design an index where we combine the interest of new and existing gamers. It is calculated as the product of new and existing player's preference."
   ]
  },
  {
   "cell_type": "code",
   "execution_count": 68,
   "metadata": {},
   "outputs": [
    {
     "data": {
      "text/html": [
       "<table border=\"1\" class=\"dataframe\">\n",
       "    <thead>\n",
       "        <tr>\n",
       "            <th>Monetization</th> <th>New Gamers</th> <th>Existing Gamers</th> <th>Monetization Index</th>\n",
       "        </tr>\n",
       "    </thead>\n",
       "    <tbody>\n",
       "        <tr>\n",
       "            <td>Ad-support models           </td> <td>35        </td> <td>43             </td> <td>1505              </td>\n",
       "        </tr>\n",
       "        <tr>\n",
       "            <td>Battle pass                 </td> <td>13        </td> <td>12             </td> <td>156               </td>\n",
       "        </tr>\n",
       "        <tr>\n",
       "            <td>Free-to-play IAP            </td> <td>25        </td> <td>24             </td> <td>600               </td>\n",
       "        </tr>\n",
       "        <tr>\n",
       "            <td>Game purchase, no ads       </td> <td>19        </td> <td>16             </td> <td>304               </td>\n",
       "        </tr>\n",
       "        <tr>\n",
       "            <td>Monthly fee for game bundles</td> <td>8         </td> <td>6              </td> <td>48                </td>\n",
       "        </tr>\n",
       "    </tbody>\n",
       "</table>"
      ],
      "text/plain": [
       "<IPython.core.display.HTML object>"
      ]
     },
     "metadata": {},
     "output_type": "display_data"
    }
   ],
   "source": [
    "new_monetization = monetization.select(\"Monetization\").with_column(\"New Gamers\",map(int,(monetization.column(\"United States(%)\")))).with_column(\"Existing Gamers\",map(int,(monetization.column(\"United States(%)_2\"))))\n",
    "m_index = new_monetization.column(\"New Gamers\")*new_monetization.column(\"Existing Gamers\")\n",
    "new_monetization = new_monetization.with_column(\"Monetization Index\", m_index)\n",
    "new_monetization.show()"
   ]
  },
  {
   "cell_type": "code",
   "execution_count": 69,
   "metadata": {},
   "outputs": [
    {
     "data": {
      "image/png": "[encoded data removed]",
      "text/plain": [
       "<Figure size 432x288 with 1 Axes>"
      ]
     },
     "metadata": {
      "needs_background": "light"
     },
     "output_type": "display_data"
    }
   ],
   "source": [
    "new_monetization.sort(\"Monetization Index\", descending=True).barh(\"Monetization\",\"Monetization Index\")"
   ]
  },
  {
   "cell_type": "markdown",
   "metadata": {},
   "source": [
    "**It is obvious that the ad-support models is the crowd's favorite, next would be free to play in app purchase, since game purchase with no ads contradict with the previous 2 models, we eliminate the 3rd category. Battle Pass would also be a nice way to monetize one's game.**"
   ]
  },
  {
   "cell_type": "markdown",
   "metadata": {},
   "source": [
    "# 4. Prediction and Conclusion"
   ]
  },
  {
   "cell_type": "markdown",
   "metadata": {},
   "source": [
    "**In conclusion, the next highest grossing game would use its own internal engine, be a puzzle/casino game, be a single player gamer with limited pvp feature, and is free to play with in app purchase, with ads, and with battle pass.**"
   ]
  },
  {
   "cell_type": "markdown",
   "metadata": {},
   "source": [
    "# 5. Confounding Factors and What's Next"
   ]
  },
  {
   "cell_type": "markdown",
   "metadata": {},
   "source": [
    "The dataset only focuses on the first quarter of 2021. With the pandemic and many political factors, alongside with a short time frame, the data could be not as accurate as if the dataset is spanned along a longer timeframe. "
   ]
  },
  {
   "cell_type": "code",
   "execution_count": null,
   "metadata": {},
   "outputs": [],
   "source": []
  }
 ],
 "metadata": {
  "kernelspec": {
   "display_name": "Python 3",
   "language": "python",
   "name": "python3"
  },
  "language_info": {
   "codemirror_mode": {
    "name": "ipython",
    "version": 3
   },
   "file_extension": ".py",
   "mimetype": "text/x-python",
   "name": "python",
   "nbconvert_exporter": "python",
   "pygments_lexer": "ipython3",
   "version": "3.8.8"
  }
 },
 "nbformat": 4,
 "nbformat_minor": 4
}
